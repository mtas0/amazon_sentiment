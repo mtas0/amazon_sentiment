{
 "cells": [
  {
   "cell_type": "markdown",
   "id": "a52d81b4",
   "metadata": {
    "papermill": {
     "duration": 0.009258,
     "end_time": "2022-09-23T11:39:06.142600",
     "exception": false,
     "start_time": "2022-09-23T11:39:06.133342",
     "status": "completed"
    },
    "tags": []
   },
   "source": [
    "## Sentiment Analysis\n",
    "\n",
    "* Sentiment Intensity Analyzer\n",
    "* Preprocessing\n",
    "* LSTM layer model\n",
    "* Confusion matrix\n"
   ]
  },
  {
   "cell_type": "code",
   "execution_count": 1,
   "id": "5c4dd56b",
   "metadata": {
    "_cell_guid": "b1076dfc-b9ad-4769-8c92-a6c4dae69d19",
    "_uuid": "8f2839f25d086af736a60e9eeb907d3b93b6e0e5",
    "execution": {
     "iopub.execute_input": "2022-09-23T11:39:06.161985Z",
     "iopub.status.busy": "2022-09-23T11:39:06.160900Z",
     "iopub.status.idle": "2022-09-23T11:39:08.423993Z",
     "shell.execute_reply": "2022-09-23T11:39:08.422495Z"
    },
    "papermill": {
     "duration": 2.276336,
     "end_time": "2022-09-23T11:39:08.427066",
     "exception": false,
     "start_time": "2022-09-23T11:39:06.150730",
     "status": "completed"
    },
    "tags": []
   },
   "outputs": [
    {
     "name": "stdout",
     "output_type": "stream",
     "text": [
      "/kaggle/input/amazonearphonesreviews/AllProductReviews.csv\n",
      "/kaggle/input/amazonearphonesreviews/ProductInfo.csv\n"
     ]
    }
   ],
   "source": [
    "#!pip install keras --upgrade\n",
    "import re\n",
    "import glob\n",
    "import numpy as np\n",
    "import pandas as pd \n",
    "import matplotlib\n",
    "import matplotlib.pyplot as plt\n",
    "import seaborn as sns\n",
    "import nltk\n",
    "from nltk.sentiment import SentimentIntensityAnalyzer\n",
    "from nltk.tokenize.treebank import TreebankWordDetokenizer\n",
    "import gensim\n",
    "from gensim.utils import simple_preprocess\n",
    "\n",
    "\n",
    "import os\n",
    "for dirname, _, filenames in os.walk('/kaggle/input'):\n",
    "    for filename in filenames:\n",
    "        print(os.path.join(dirname, filename))\n",
    "\n",
    "plt.style.use('ggplot')"
   ]
  },
  {
   "cell_type": "markdown",
   "id": "822e16c4",
   "metadata": {
    "papermill": {
     "duration": 0.007786,
     "end_time": "2022-09-23T11:39:08.444004",
     "exception": false,
     "start_time": "2022-09-23T11:39:08.436218",
     "status": "completed"
    },
    "tags": []
   },
   "source": [
    "### Load DF"
   ]
  },
  {
   "cell_type": "code",
   "execution_count": 2,
   "id": "4f66553d",
   "metadata": {
    "execution": {
     "iopub.execute_input": "2022-09-23T11:39:08.462659Z",
     "iopub.status.busy": "2022-09-23T11:39:08.461990Z",
     "iopub.status.idle": "2022-09-23T11:39:08.641869Z",
     "shell.execute_reply": "2022-09-23T11:39:08.640504Z"
    },
    "papermill": {
     "duration": 0.192643,
     "end_time": "2022-09-23T11:39:08.644698",
     "exception": false,
     "start_time": "2022-09-23T11:39:08.452055",
     "status": "completed"
    },
    "tags": []
   },
   "outputs": [
    {
     "data": {
      "text/html": [
       "<div>\n",
       "<style scoped>\n",
       "    .dataframe tbody tr th:only-of-type {\n",
       "        vertical-align: middle;\n",
       "    }\n",
       "\n",
       "    .dataframe tbody tr th {\n",
       "        vertical-align: top;\n",
       "    }\n",
       "\n",
       "    .dataframe thead th {\n",
       "        text-align: right;\n",
       "    }\n",
       "</style>\n",
       "<table border=\"1\" class=\"dataframe\">\n",
       "  <thead>\n",
       "    <tr style=\"text-align: right;\">\n",
       "      <th></th>\n",
       "      <th>MRP</th>\n",
       "      <th>Price</th>\n",
       "      <th>ProductFullName</th>\n",
       "      <th>ProductShortName</th>\n",
       "      <th>ReviewURL</th>\n",
       "      <th>id</th>\n",
       "    </tr>\n",
       "  </thead>\n",
       "  <tbody>\n",
       "    <tr>\n",
       "      <th>0</th>\n",
       "      <td>2990</td>\n",
       "      <td>1399</td>\n",
       "      <td>boAt Rockerz 255 Sports Bluetooth Wireless Ear...</td>\n",
       "      <td>boAt Rockerz 255</td>\n",
       "      <td>https://www.amazon.in/255-Bluetooth-Wireless-E...</td>\n",
       "      <td>1</td>\n",
       "    </tr>\n",
       "    <tr>\n",
       "      <th>1</th>\n",
       "      <td>3999</td>\n",
       "      <td>1099</td>\n",
       "      <td>Flybot Wave in-Ear Sport Wireless Bluetooth Ea...</td>\n",
       "      <td>Flybot Wave</td>\n",
       "      <td>https://www.amazon.in/Flybot-Wireless-Bluetoot...</td>\n",
       "      <td>2</td>\n",
       "    </tr>\n",
       "    <tr>\n",
       "      <th>2</th>\n",
       "      <td>3999</td>\n",
       "      <td>1099</td>\n",
       "      <td>Flybot Boom Deep Bass in-Ear Wireless Bluetoot...</td>\n",
       "      <td>Flybot Boom</td>\n",
       "      <td>https://www.amazon.in/Flybot-Wireless-Bluetoot...</td>\n",
       "      <td>3</td>\n",
       "    </tr>\n",
       "    <tr>\n",
       "      <th>3</th>\n",
       "      <td>2000</td>\n",
       "      <td>749</td>\n",
       "      <td>PTron Intunes Pro Headphone Magnetic Earphone ...</td>\n",
       "      <td>PTron Intunes</td>\n",
       "      <td>https://www.amazon.in/PTron-Intunes-Pro-Smartp...</td>\n",
       "      <td>4</td>\n",
       "    </tr>\n",
       "    <tr>\n",
       "      <th>4</th>\n",
       "      <td>5999</td>\n",
       "      <td>2999</td>\n",
       "      <td>Flybot Beat True Wireless Bluetooth Earphones ...</td>\n",
       "      <td>Flybot Beat</td>\n",
       "      <td>https://www.amazon.in/Flybot-Wireless-Bluetoot...</td>\n",
       "      <td>5</td>\n",
       "    </tr>\n",
       "  </tbody>\n",
       "</table>\n",
       "</div>"
      ],
      "text/plain": [
       "    MRP  Price                                    ProductFullName  \\\n",
       "0  2990   1399  boAt Rockerz 255 Sports Bluetooth Wireless Ear...   \n",
       "1  3999   1099  Flybot Wave in-Ear Sport Wireless Bluetooth Ea...   \n",
       "2  3999   1099  Flybot Boom Deep Bass in-Ear Wireless Bluetoot...   \n",
       "3  2000    749  PTron Intunes Pro Headphone Magnetic Earphone ...   \n",
       "4  5999   2999  Flybot Beat True Wireless Bluetooth Earphones ...   \n",
       "\n",
       "   ProductShortName                                          ReviewURL  id  \n",
       "0  boAt Rockerz 255  https://www.amazon.in/255-Bluetooth-Wireless-E...   1  \n",
       "1       Flybot Wave  https://www.amazon.in/Flybot-Wireless-Bluetoot...   2  \n",
       "2       Flybot Boom  https://www.amazon.in/Flybot-Wireless-Bluetoot...   3  \n",
       "3     PTron Intunes  https://www.amazon.in/PTron-Intunes-Pro-Smartp...   4  \n",
       "4       Flybot Beat  https://www.amazon.in/Flybot-Wireless-Bluetoot...   5  "
      ]
     },
     "execution_count": 2,
     "metadata": {},
     "output_type": "execute_result"
    }
   ],
   "source": [
    "df_dir = \"../input/amazonearphonesreviews\"\n",
    "dfs = [pd.read_csv(df) for df in glob.glob(df_dir + \"/*.csv\")]\n",
    "\n",
    "df = dfs[0]\n",
    "df_2 = dfs[1]\n",
    "df.head()\n",
    "df_2.head()"
   ]
  },
  {
   "cell_type": "markdown",
   "id": "3d681d0b",
   "metadata": {
    "papermill": {
     "duration": 0.008015,
     "end_time": "2022-09-23T11:39:08.661313",
     "exception": false,
     "start_time": "2022-09-23T11:39:08.653298",
     "status": "completed"
    },
    "tags": []
   },
   "source": [
    "### Average rating for each product"
   ]
  },
  {
   "cell_type": "code",
   "execution_count": 3,
   "id": "e962849d",
   "metadata": {
    "execution": {
     "iopub.execute_input": "2022-09-23T11:39:08.682319Z",
     "iopub.status.busy": "2022-09-23T11:39:08.681858Z",
     "iopub.status.idle": "2022-09-23T11:39:08.704758Z",
     "shell.execute_reply": "2022-09-23T11:39:08.703512Z"
    },
    "papermill": {
     "duration": 0.035955,
     "end_time": "2022-09-23T11:39:08.707499",
     "exception": false,
     "start_time": "2022-09-23T11:39:08.671544",
     "status": "completed"
    },
    "tags": []
   },
   "outputs": [
    {
     "name": "stdout",
     "output_type": "stream",
     "text": [
      "                 Product  ReviewStar\n",
      "0            Flybot Beat    4.391304\n",
      "1            Flybot Boom    4.243902\n",
      "2            Flybot Wave    3.851648\n",
      "3             JBL T110BT    3.047347\n",
      "4             JBL T205BT    3.367116\n",
      "5          PTron Intunes    3.889764\n",
      "6  Samsung EO-BG950CBEIN    3.566964\n",
      "7    Sennheiser CX 6.0BT    4.048200\n",
      "8  Skullcandy S2PGHW-174    3.230126\n",
      "9       boAt Rockerz 255    3.628600\n"
     ]
    }
   ],
   "source": [
    "rev_mean = df.groupby('Product', as_index=False)['ReviewStar'].mean()\n",
    "print(rev_mean)"
   ]
  },
  {
   "cell_type": "markdown",
   "id": "0a7db992",
   "metadata": {
    "papermill": {
     "duration": 0.008482,
     "end_time": "2022-09-23T11:39:08.724668",
     "exception": false,
     "start_time": "2022-09-23T11:39:08.716186",
     "status": "completed"
    },
    "tags": []
   },
   "source": [
    "### Plotting average rating and price for each product"
   ]
  },
  {
   "cell_type": "code",
   "execution_count": 4,
   "id": "211f9545",
   "metadata": {
    "execution": {
     "iopub.execute_input": "2022-09-23T11:39:08.744738Z",
     "iopub.status.busy": "2022-09-23T11:39:08.744223Z",
     "iopub.status.idle": "2022-09-23T11:39:09.717185Z",
     "shell.execute_reply": "2022-09-23T11:39:09.715701Z"
    },
    "papermill": {
     "duration": 0.98641,
     "end_time": "2022-09-23T11:39:09.720129",
     "exception": false,
     "start_time": "2022-09-23T11:39:08.733719",
     "status": "completed"
    },
    "tags": []
   },
   "outputs": [
    {
     "data": {
      "image/png": "[encoded data removed]",
      "text/plain": [
       "<Figure size 2500x1000 with 2 Axes>"
      ]
     },
     "metadata": {},
     "output_type": "display_data"
    }
   ],
   "source": [
    "matplotlib.rc_file_defaults()\n",
    "ax1 = sns.set_style(style=None, rc=None)\n",
    "\n",
    "fig, ax1 = plt.subplots(figsize=(25,10))\n",
    "sns.lineplot(data=df_2[\"Price\"], marker='o', sort=False, ax=ax1)\n",
    "ax2 = ax1.twinx()\n",
    "sns.barplot(data=df, x=\"Product\", y=\"ReviewStar\", alpha=0.5, ax=ax2)\n",
    "plt.show()"
   ]
  },
  {
   "cell_type": "markdown",
   "id": "50706c69",
   "metadata": {
    "papermill": {
     "duration": 0.009834,
     "end_time": "2022-09-23T11:39:09.739994",
     "exception": false,
     "start_time": "2022-09-23T11:39:09.730160",
     "status": "completed"
    },
    "tags": []
   },
   "source": [
    "### Calculate polarity scores for each row in reviews"
   ]
  },
  {
   "cell_type": "code",
   "execution_count": 5,
   "id": "ca4c587e",
   "metadata": {
    "execution": {
     "iopub.execute_input": "2022-09-23T11:39:09.762884Z",
     "iopub.status.busy": "2022-09-23T11:39:09.761542Z",
     "iopub.status.idle": "2022-09-23T11:39:15.457291Z",
     "shell.execute_reply": "2022-09-23T11:39:15.456037Z"
    },
    "papermill": {
     "duration": 5.710047,
     "end_time": "2022-09-23T11:39:15.460059",
     "exception": false,
     "start_time": "2022-09-23T11:39:09.750012",
     "status": "completed"
    },
    "tags": []
   },
   "outputs": [
    {
     "data": {
      "text/html": [
       "<div>\n",
       "<style scoped>\n",
       "    .dataframe tbody tr th:only-of-type {\n",
       "        vertical-align: middle;\n",
       "    }\n",
       "\n",
       "    .dataframe tbody tr th {\n",
       "        vertical-align: top;\n",
       "    }\n",
       "\n",
       "    .dataframe thead th {\n",
       "        text-align: right;\n",
       "    }\n",
       "</style>\n",
       "<table border=\"1\" class=\"dataframe\">\n",
       "  <thead>\n",
       "    <tr style=\"text-align: right;\">\n",
       "      <th></th>\n",
       "      <th>id</th>\n",
       "      <th>neg</th>\n",
       "      <th>neu</th>\n",
       "      <th>pos</th>\n",
       "      <th>compound</th>\n",
       "      <th>ReviewTitle</th>\n",
       "      <th>ReviewBody</th>\n",
       "      <th>ReviewStar</th>\n",
       "      <th>Product</th>\n",
       "    </tr>\n",
       "  </thead>\n",
       "  <tbody>\n",
       "    <tr>\n",
       "      <th>0</th>\n",
       "      <td>0</td>\n",
       "      <td>0.268</td>\n",
       "      <td>0.657</td>\n",
       "      <td>0.075</td>\n",
       "      <td>-0.9580</td>\n",
       "      <td>Honest review of an edm music lover\\n</td>\n",
       "      <td>No doubt it has a great bass and to a great ex...</td>\n",
       "      <td>3</td>\n",
       "      <td>boAt Rockerz 255</td>\n",
       "    </tr>\n",
       "    <tr>\n",
       "      <th>1</th>\n",
       "      <td>1</td>\n",
       "      <td>0.073</td>\n",
       "      <td>0.884</td>\n",
       "      <td>0.043</td>\n",
       "      <td>-0.2528</td>\n",
       "      <td>Unreliable earphones with high cost\\n</td>\n",
       "      <td>This  earphones are unreliable, i bought it be...</td>\n",
       "      <td>1</td>\n",
       "      <td>boAt Rockerz 255</td>\n",
       "    </tr>\n",
       "    <tr>\n",
       "      <th>2</th>\n",
       "      <td>2</td>\n",
       "      <td>0.021</td>\n",
       "      <td>0.928</td>\n",
       "      <td>0.052</td>\n",
       "      <td>0.5569</td>\n",
       "      <td>Really good and durable.\\n</td>\n",
       "      <td>i bought itfor 999,I purchased it second time,...</td>\n",
       "      <td>4</td>\n",
       "      <td>boAt Rockerz 255</td>\n",
       "    </tr>\n",
       "    <tr>\n",
       "      <th>3</th>\n",
       "      <td>3</td>\n",
       "      <td>0.061</td>\n",
       "      <td>0.833</td>\n",
       "      <td>0.105</td>\n",
       "      <td>0.1779</td>\n",
       "      <td>stopped working in just 14 days\\n</td>\n",
       "      <td>Its sound quality is adorable. overall it was ...</td>\n",
       "      <td>1</td>\n",
       "      <td>boAt Rockerz 255</td>\n",
       "    </tr>\n",
       "    <tr>\n",
       "      <th>4</th>\n",
       "      <td>4</td>\n",
       "      <td>0.093</td>\n",
       "      <td>0.760</td>\n",
       "      <td>0.147</td>\n",
       "      <td>0.2831</td>\n",
       "      <td>Just Awesome Wireless Headphone under 1000...😉\\n</td>\n",
       "      <td>Its Awesome... Good sound quality &amp; 8-9 hrs ba...</td>\n",
       "      <td>5</td>\n",
       "      <td>boAt Rockerz 255</td>\n",
       "    </tr>\n",
       "  </tbody>\n",
       "</table>\n",
       "</div>"
      ],
      "text/plain": [
       "   id    neg    neu    pos  compound  \\\n",
       "0   0  0.268  0.657  0.075   -0.9580   \n",
       "1   1  0.073  0.884  0.043   -0.2528   \n",
       "2   2  0.021  0.928  0.052    0.5569   \n",
       "3   3  0.061  0.833  0.105    0.1779   \n",
       "4   4  0.093  0.760  0.147    0.2831   \n",
       "\n",
       "                                        ReviewTitle  \\\n",
       "0             Honest review of an edm music lover\\n   \n",
       "1             Unreliable earphones with high cost\\n   \n",
       "2                        Really good and durable.\\n   \n",
       "3                 stopped working in just 14 days\\n   \n",
       "4  Just Awesome Wireless Headphone under 1000...😉\\n   \n",
       "\n",
       "                                          ReviewBody  ReviewStar  \\\n",
       "0  No doubt it has a great bass and to a great ex...           3   \n",
       "1  This  earphones are unreliable, i bought it be...           1   \n",
       "2  i bought itfor 999,I purchased it second time,...           4   \n",
       "3  Its sound quality is adorable. overall it was ...           1   \n",
       "4  Its Awesome... Good sound quality & 8-9 hrs ba...           5   \n",
       "\n",
       "            Product  \n",
       "0  boAt Rockerz 255  \n",
       "1  boAt Rockerz 255  \n",
       "2  boAt Rockerz 255  \n",
       "3  boAt Rockerz 255  \n",
       "4  boAt Rockerz 255  "
      ]
     },
     "execution_count": 5,
     "metadata": {},
     "output_type": "execute_result"
    }
   ],
   "source": [
    "sia = SentimentIntensityAnalyzer()\n",
    "\n",
    "rev = {}\n",
    "for i, row in enumerate(df[\"ReviewBody\"]):\n",
    "    review = row\n",
    "    id_x = i\n",
    "    rev[id_x] = sia.polarity_scores(review)\n",
    "\n",
    "rev = pd.DataFrame(rev).T\n",
    "rev = rev.reset_index().rename(columns={'index':'id'})\n",
    "\n",
    "## concat the scores to main dataframe\n",
    "\n",
    "df_main = pd.concat([rev, df], axis=1)\n",
    "df_main.head()"
   ]
  },
  {
   "cell_type": "markdown",
   "id": "4a4d3b6d",
   "metadata": {
    "papermill": {
     "duration": 0.01003,
     "end_time": "2022-09-23T11:39:15.481116",
     "exception": false,
     "start_time": "2022-09-23T11:39:15.471086",
     "status": "completed"
    },
    "tags": []
   },
   "source": [
    "### Add a column with max_score and max_id\n",
    "* Each review is assigned the score id in response to the highest score"
   ]
  },
  {
   "cell_type": "code",
   "execution_count": 6,
   "id": "2491342a",
   "metadata": {
    "execution": {
     "iopub.execute_input": "2022-09-23T11:39:15.504548Z",
     "iopub.status.busy": "2022-09-23T11:39:15.503778Z",
     "iopub.status.idle": "2022-09-23T11:39:15.546685Z",
     "shell.execute_reply": "2022-09-23T11:39:15.544642Z"
    },
    "papermill": {
     "duration": 0.058206,
     "end_time": "2022-09-23T11:39:15.549639",
     "exception": false,
     "start_time": "2022-09-23T11:39:15.491433",
     "status": "completed"
    },
    "tags": []
   },
   "outputs": [
    {
     "name": "stdout",
     "output_type": "stream",
     "text": [
      "          id    neg    neu    pos  max_score max_id  \\\n",
      "0          0  0.268  0.657  0.075      0.657    neu   \n",
      "1          1  0.073  0.884  0.043      0.884    neu   \n",
      "2          2  0.021  0.928  0.052      0.928    neu   \n",
      "3          3  0.061  0.833  0.105      0.833    neu   \n",
      "4          4  0.093  0.760  0.147      0.760    neu   \n",
      "...      ...    ...    ...    ...        ...    ...   \n",
      "14332  14332  0.000  0.000  1.000      1.000    pos   \n",
      "14333  14333  0.200  0.500  0.300      0.500    neu   \n",
      "14334  14334  0.000  1.000  0.000      1.000    neu   \n",
      "14335  14335  0.000  0.674  0.326      0.674    neu   \n",
      "14336  14336  0.103  0.788  0.109      0.788    neu   \n",
      "\n",
      "                                              ReviewBody  ReviewStar  \\\n",
      "0      No doubt it has a great bass and to a great ex...           3   \n",
      "1      This  earphones are unreliable, i bought it be...           1   \n",
      "2      i bought itfor 999,I purchased it second time,...           4   \n",
      "3      Its sound quality is adorable. overall it was ...           1   \n",
      "4      Its Awesome... Good sound quality & 8-9 hrs ba...           5   \n",
      "...                                                  ...         ...   \n",
      "14332                                             Good\\n           4   \n",
      "14333             An amazing product but a bit costly.\\n           5   \n",
      "14334                                            Sound\\n           1   \n",
      "14335  the sound is good battery life is good but the...           5   \n",
      "14336  M writing this review after using for almost 7...           1   \n",
      "\n",
      "                Product  \n",
      "0      boAt Rockerz 255  \n",
      "1      boAt Rockerz 255  \n",
      "2      boAt Rockerz 255  \n",
      "3      boAt Rockerz 255  \n",
      "4      boAt Rockerz 255  \n",
      "...                 ...  \n",
      "14332        JBL T110BT  \n",
      "14333        JBL T110BT  \n",
      "14334        JBL T110BT  \n",
      "14335        JBL T110BT  \n",
      "14336        JBL T110BT  \n",
      "\n",
      "[14337 rows x 9 columns]\n"
     ]
    }
   ],
   "source": [
    "df_main[\"max_score\"] = df_main[[\"neg\",\"neu\",\"pos\"]].max(axis=1)\n",
    "df_main[\"max_id\"] = df_main[[\"neg\",\"neu\",\"pos\"]].idxmax(1)\n",
    "df_main = df_main[[\"id\", \"neg\",\"neu\",\"pos\",\"max_score\", \"max_id\",\"ReviewBody\",\"ReviewStar\", \"Product\"]]\n",
    "print(df_main)"
   ]
  },
  {
   "cell_type": "markdown",
   "id": "e613f2ec",
   "metadata": {
    "papermill": {
     "duration": 0.010332,
     "end_time": "2022-09-23T11:39:15.570684",
     "exception": false,
     "start_time": "2022-09-23T11:39:15.560352",
     "status": "completed"
    },
    "tags": []
   },
   "source": [
    "### Plotting scores for each product"
   ]
  },
  {
   "cell_type": "code",
   "execution_count": 7,
   "id": "521f7d94",
   "metadata": {
    "execution": {
     "iopub.execute_input": "2022-09-23T11:39:15.594445Z",
     "iopub.status.busy": "2022-09-23T11:39:15.593204Z",
     "iopub.status.idle": "2022-09-23T11:39:18.043507Z",
     "shell.execute_reply": "2022-09-23T11:39:18.042229Z"
    },
    "papermill": {
     "duration": 2.464758,
     "end_time": "2022-09-23T11:39:18.046110",
     "exception": false,
     "start_time": "2022-09-23T11:39:15.581352",
     "status": "completed"
    },
    "tags": []
   },
   "outputs": [
    {
     "data": {
      "text/plain": [
       "<Figure size 2500x1000 with 0 Axes>"
      ]
     },
     "metadata": {},
     "output_type": "display_data"
    },
    {
     "data": {
      "image/png": "[encoded data removed]",
      "text/plain": [
       "<Figure size 5000x500 with 10 Axes>"
      ]
     },
     "metadata": {},
     "output_type": "display_data"
    }
   ],
   "source": [
    "plt.figure(figsize=(25,10))\n",
    "sns.catplot(data=df_main, x=\"max_id\", y=\"max_score\", col=\"Product\", kind=\"bar\")\n",
    "plt.show()"
   ]
  },
  {
   "cell_type": "markdown",
   "id": "079e3580",
   "metadata": {
    "papermill": {
     "duration": 0.011667,
     "end_time": "2022-09-23T11:39:18.070508",
     "exception": false,
     "start_time": "2022-09-23T11:39:18.058841",
     "status": "completed"
    },
    "tags": []
   },
   "source": [
    "### Plotting to compare reviews and polarity scores "
   ]
  },
  {
   "cell_type": "code",
   "execution_count": 8,
   "id": "55863638",
   "metadata": {
    "execution": {
     "iopub.execute_input": "2022-09-23T11:39:18.096149Z",
     "iopub.status.busy": "2022-09-23T11:39:18.095667Z",
     "iopub.status.idle": "2022-09-23T11:39:19.441543Z",
     "shell.execute_reply": "2022-09-23T11:39:19.440440Z"
    },
    "papermill": {
     "duration": 1.362199,
     "end_time": "2022-09-23T11:39:19.444819",
     "exception": false,
     "start_time": "2022-09-23T11:39:18.082620",
     "status": "completed"
    },
    "tags": []
   },
   "outputs": [
    {
     "data": {
      "text/plain": [
       "Text(0.5, 1.0, 'negative')"
      ]
     },
     "execution_count": 8,
     "metadata": {},
     "output_type": "execute_result"
    },
    {
     "data": {
      "image/png": "[encoded data removed]",
      "text/plain": [
       "<Figure size 1500x500 with 3 Axes>"
      ]
     },
     "metadata": {},
     "output_type": "display_data"
    }
   ],
   "source": [
    "fig, axs= plt.subplots(1,3, figsize=(15,5))\n",
    "sns.barplot(data=df_main, x=\"ReviewStar\", y=\"pos\", ax=axs[0])\n",
    "sns.barplot(data=df_main, x=\"ReviewStar\", y=\"neu\", ax=axs[1])\n",
    "sns.barplot(data=df_main, x=\"ReviewStar\", y=\"neg\", ax=axs[2])\n",
    "axs[0].set_title('positive')\n",
    "axs[1].set_title('neutral')\n",
    "axs[2].set_title('negative')"
   ]
  },
  {
   "cell_type": "markdown",
   "id": "13b4d949",
   "metadata": {
    "papermill": {
     "duration": 0.011782,
     "end_time": "2022-09-23T11:39:19.469417",
     "exception": false,
     "start_time": "2022-09-23T11:39:19.457635",
     "status": "completed"
    },
    "tags": []
   },
   "source": [
    "### Preprocessing: \n",
    "* removing certain characters from texts\n",
    "* sentences to words\n",
    "* detokenize"
   ]
  },
  {
   "cell_type": "code",
   "execution_count": 9,
   "id": "25c66dc3",
   "metadata": {
    "execution": {
     "iopub.execute_input": "2022-09-23T11:39:19.496425Z",
     "iopub.status.busy": "2022-09-23T11:39:19.495584Z",
     "iopub.status.idle": "2022-09-23T11:39:19.820945Z",
     "shell.execute_reply": "2022-09-23T11:39:19.819469Z"
    },
    "papermill": {
     "duration": 0.341965,
     "end_time": "2022-09-23T11:39:19.823693",
     "exception": false,
     "start_time": "2022-09-23T11:39:19.481728",
     "status": "completed"
    },
    "tags": []
   },
   "outputs": [
    {
     "data": {
      "text/plain": [
       "['No doubt it has a great bass and to a great extent noise cancellation and decent sound clarity and mindblowing battery but the following dissapointed me though i tried a lot to adjust.1.Bluetooth range not more than 10m2. Pain in ear due the conical buds(can be removed)3. Wires are a bit long which makes it odd in front.4. No pouch provided.5. Worst part is very low quality and distoring mic. Other person keeps complaining about my voice. ',\n",
       " 'This earphones are unreliable, i bought it before 15 days meanwhile right side ear buds got cracked automatically and it got divided in two parts, and sound quality is also not that much good but ok, one more thing bass is not good as it is a boat earphones.Guys,Also for the proof i have attached picsPlease see and think before buying\\u200b this unreliable product.Thanks. ',\n",
       " 'i bought itfor 999,I purchased it second time, gifted first one to brother. This is really good.Sound quality is really good.You can connect 2 devices at a time.I connect laptop and mobile both.when listening muaic on Lappy, if u get a call, it switches to mobile,this switch between device is not good but again in this price its awesome.Battery stand by is 36 hours for me, and i have used it continously for 8 hours in one go. So Battery life is pretty awesome.Comfortable on ear. ',\n",
       " 'Its sound quality is adorable. overall it was good but just for 2 weeks after that it stopped working and since then it never powered on again. I am claiming for warrenty and it is still undergoing. ',\n",
       " 'Its Awesome... Good sound quality & 8-9 hrs battery life... Just waww look... 😉 I brought just 999 rupees...But Amazons Packageing system is Very bad... Very poor packaging... Flipcarts packaging system is much better than Amazon... ']"
      ]
     },
     "execution_count": 9,
     "metadata": {},
     "output_type": "execute_result"
    }
   ],
   "source": [
    "def depure_data(data):\n",
    "    \"\"\"remove new line \n",
    "    chars and single quotes\"\"\"    \n",
    "    data = re.sub('\\s+', ' ', data)\n",
    "    data = re.sub(\"\\'\", \"\", data)        \n",
    "    return data\n",
    "\n",
    "\n",
    "data = [depure_data(i) for i in df_main[\"ReviewBody\"]]\n",
    "\n",
    "tmp = []\n",
    "for i in range(len(data)):\n",
    "    tmp.append(depure_data(data[i]))\n",
    "list(tmp[:5])\n"
   ]
  },
  {
   "cell_type": "code",
   "execution_count": 10,
   "id": "6013d3d8",
   "metadata": {
    "execution": {
     "iopub.execute_input": "2022-09-23T11:39:19.852128Z",
     "iopub.status.busy": "2022-09-23T11:39:19.851245Z",
     "iopub.status.idle": "2022-09-23T11:39:20.847694Z",
     "shell.execute_reply": "2022-09-23T11:39:20.846314Z"
    },
    "papermill": {
     "duration": 1.015205,
     "end_time": "2022-09-23T11:39:20.851835",
     "exception": false,
     "start_time": "2022-09-23T11:39:19.836630",
     "status": "completed"
    },
    "tags": []
   },
   "outputs": [
    {
     "name": "stdout",
     "output_type": "stream",
     "text": [
      "[['no', 'doubt', 'it', 'has', 'great', 'bass', 'and', 'to', 'great', 'extent', 'noise', 'cancellation', 'and', 'decent', 'sound', 'clarity', 'and', 'mindblowing', 'battery', 'but', 'the', 'following', 'dissapointed', 'me', 'though', 'tried', 'lot', 'to', 'adjust', 'bluetooth', 'range', 'not', 'more', 'than', 'pain', 'in', 'ear', 'due', 'the', 'conical', 'buds', 'can', 'be', 'removed', 'wires', 'are', 'bit', 'long', 'which', 'makes', 'it', 'odd', 'in', 'front', 'no', 'pouch', 'provided', 'worst', 'part', 'is', 'very', 'low', 'quality', 'and', 'distoring', 'mic', 'other', 'person', 'keeps', 'complaining', 'about', 'my', 'voice'], ['this', 'earphones', 'are', 'unreliable', 'bought', 'it', 'before', 'days', 'meanwhile', 'right', 'side', 'ear', 'buds', 'got', 'cracked', 'automatically', 'and', 'it', 'got', 'divided', 'in', 'two', 'parts', 'and', 'sound', 'quality', 'is', 'also', 'not', 'that', 'much', 'good', 'but', 'ok', 'one', 'more', 'thing', 'bass', 'is', 'not', 'good', 'as', 'it', 'is', 'boat', 'earphones', 'guys', 'also', 'for', 'the', 'proof', 'have', 'attached', 'picsplease', 'see', 'and', 'think', 'before', 'buying', 'this', 'unreliable', 'product', 'thanks'], ['bought', 'itfor', 'purchased', 'it', 'second', 'time', 'gifted', 'first', 'one', 'to', 'brother', 'this', 'is', 'really', 'good', 'sound', 'quality', 'is', 'really', 'good', 'you', 'can', 'connect', 'devices', 'at', 'time', 'connect', 'laptop', 'and', 'mobile', 'both', 'when', 'listening', 'muaic', 'on', 'lappy', 'if', 'get', 'call', 'it', 'switches', 'to', 'mobile', 'this', 'switch', 'between', 'device', 'is', 'not', 'good', 'but', 'again', 'in', 'this', 'price', 'its', 'awesome', 'battery', 'stand', 'by', 'is', 'hours', 'for', 'me', 'and', 'have', 'used', 'it', 'continously', 'for', 'hours', 'in', 'one', 'go', 'so', 'battery', 'life', 'is', 'pretty', 'awesome', 'comfortable', 'on', 'ear'], ['its', 'sound', 'quality', 'is', 'adorable', 'overall', 'it', 'was', 'good', 'but', 'just', 'for', 'weeks', 'after', 'that', 'it', 'stopped', 'working', 'and', 'since', 'then', 'it', 'never', 'powered', 'on', 'again', 'am', 'claiming', 'for', 'warrenty', 'and', 'it', 'is', 'still', 'undergoing'], ['its', 'awesome', 'good', 'sound', 'quality', 'hrs', 'battery', 'life', 'just', 'waww', 'look', 'brought', 'just', 'rupees', 'but', 'amazons', 'packageing', 'system', 'is', 'very', 'bad', 'very', 'poor', 'packaging', 'flipcarts', 'packaging', 'system', 'is', 'much', 'better', 'than', 'amazon'], ['after', 'days', 'the', 'charging', 'port', 'isnt', 'working', 'and', 'now', 'cant', 'even', 'return', 'it', 'wat', 'to', 'do', 'know', 'there', 'is', 'one', 'year', 'warranty', 'but', 'it', 'is', 'only', 'been', 'days', 'cmon', 'boat', 'please', 'send', 'me', 'new', 'one'], ['sound', 'build', 'quality', 'battery', 'life', 'earphones', 'quality', 'is', 'good', 'with', 'strong', 'magnetic', 'lock', 'straps', 'is', 'good', 'quality', 'and', 'the', 'earphones', 'wires', 'are', 'too', 'good', 'buttons', 'quality', 'is', 'good', 'sound', 'is', 'full', 'of', 'punchy', 'bass', 'and', 'and', 'balanced', 'treble', 'and', 'has', 'sorrund', 'effect', 'good', 'fitting', 'in', 'ears', 'hope', 'connectivity', 'is', 'good', 'bcz', 'my', 'last', 'boat', 'bluetooth', 'bassheads', 'had', 'connection', 'issues', 'this', 'is', 'worth', 'its', 'price', 'hope', 'the', 'packaging', 'was', 'good', 'there', 'was', 'no', 'bubble', 'wrapping'], ['after', 'one', 'month', 'usage', 'reviewing', 'this', 'pros', 'sound', 'quality', 'design', 'weight', 'batterycons', 'very', 'bad', 'mic', 'for', 'talking', 'cant', 'use', 'while', 'riding', 'bike', 'music', 'is', 'too', 'loud'], ['can', 'get', 'enough', 'of', 'this', 'earphone', 'the', 'bass', 'is', 'amazing', 'and', 'is', 'perfect', 'for', 'music', 'lover', 'the', 'battery', 'life', 'is', 'good', 'enough', 'to', 'keep', 'me', 'going', 'all', 'day', 'the', 'fact', 'that', 'can', 'connect', 'my', 'laptop', 'and', 'phone', 'at', 'the', 'same', 'time', 'and', 'switch', 'between', 'them', 'makes', 'the', 'experience', 'so', 'much', 'better', 'use', 'my', 'earphones', 'lot', 'for', 'voice', 'calls', 'and', 'this', 'doesn', 'let', 'me', 'down', 'at', 'all', 'this', 'is', 'must', 'buy', 'for', 'all', 'music', 'lovers'], ['the', 'product', 'durability', 'is', 'month', 'just', 'lost', 'my', 'bill', 'details', 'so', 'cant', 'claim', 'my', 'warrenty', 'but', 'this', 'earphones', 'built', 'quality', 'is', 'bad', 'it', 'stops', 'wrking', 'completely', 'after', 'month', 'sep', 'to', 'nov', 'life', 'span', 'dont', 'lose', 'ur', 'bill', 'details', 'incase', 'want', 'that', 'warranty', 'and', 'after', 'purchasing', 'must', 'register', 'ur', 'product', 'in', 'boats', 'site', 'for', 'replacement', 'and', 'warranty']]\n"
     ]
    }
   ],
   "source": [
    "def sent_to_words(sentences):\n",
    "    for sentence in sentences:\n",
    "        yield(gensim.utils.simple_preprocess(str(sentence), deacc=True))  \n",
    "        \n",
    "\n",
    "data_words = list(sent_to_words(tmp))\n",
    "\n",
    "print(data_words[:10])\n",
    "#print(len(data_words))"
   ]
  },
  {
   "cell_type": "code",
   "execution_count": 11,
   "id": "561aad3e",
   "metadata": {
    "execution": {
     "iopub.execute_input": "2022-09-23T11:39:20.880736Z",
     "iopub.status.busy": "2022-09-23T11:39:20.879822Z",
     "iopub.status.idle": "2022-09-23T11:39:20.884991Z",
     "shell.execute_reply": "2022-09-23T11:39:20.884093Z"
    },
    "papermill": {
     "duration": 0.022005,
     "end_time": "2022-09-23T11:39:20.887265",
     "exception": false,
     "start_time": "2022-09-23T11:39:20.865260",
     "status": "completed"
    },
    "tags": []
   },
   "outputs": [],
   "source": [
    "def detokenize(text):\n",
    "    return TreebankWordDetokenizer().detokenize(text)"
   ]
  },
  {
   "cell_type": "code",
   "execution_count": 12,
   "id": "0e51c8b9",
   "metadata": {
    "execution": {
     "iopub.execute_input": "2022-09-23T11:39:20.914796Z",
     "iopub.status.busy": "2022-09-23T11:39:20.914235Z",
     "iopub.status.idle": "2022-09-23T11:39:22.435785Z",
     "shell.execute_reply": "2022-09-23T11:39:22.434425Z"
    },
    "papermill": {
     "duration": 1.539096,
     "end_time": "2022-09-23T11:39:22.439118",
     "exception": false,
     "start_time": "2022-09-23T11:39:20.900022",
     "status": "completed"
    },
    "tags": []
   },
   "outputs": [
    {
     "name": "stdout",
     "output_type": "stream",
     "text": [
      "['no doubt it has great bass and to great extent noise cancellation and decent sound clarity and mindblowing battery but the following dissapointed me though tried lot to adjust bluetooth range not more than pain in ear due the conical buds can be removed wires are bit long which makes it odd in front no pouch provided worst part is very low quality and distoring mic other person keeps complaining about my voice', 'this earphones are unreliable bought it before days meanwhile right side ear buds got cracked automatically and it got divided in two parts and sound quality is also not that much good but ok one more thing bass is not good as it is boat earphones guys also for the proof have attached picsplease see and think before buying this unreliable product thanks', 'bought itfor purchased it second time gifted first one to brother this is really good sound quality is really good you can connect devices at time connect laptop and mobile both when listening muaic on lappy if get call it switches to mobile this switch between device is not good but again in this price its awesome battery stand by is hours for me and have used it continously for hours in one go so battery life is pretty awesome comfortable on ear', 'its sound quality is adorable overall it was good but just for weeks after that it stopped working and since then it never powered on again am claiming for warrenty and it is still undergoing', 'its awesome good sound quality hrs battery life just waww look brought just rupees but amazons packageing system is very bad very poor packaging flipcarts packaging system is much better than amazon']\n"
     ]
    }
   ],
   "source": [
    "d = [detokenize(data_words[i]) for i in range(len(data_words))]\n",
    "print(d[:5])"
   ]
  },
  {
   "cell_type": "markdown",
   "id": "34fdaba7",
   "metadata": {
    "papermill": {
     "duration": 0.012478,
     "end_time": "2022-09-23T11:39:22.464547",
     "exception": false,
     "start_time": "2022-09-23T11:39:22.452069",
     "status": "completed"
    },
    "tags": []
   },
   "source": [
    "### Convert data to numpy array"
   ]
  },
  {
   "cell_type": "code",
   "execution_count": 13,
   "id": "58412b1f",
   "metadata": {
    "execution": {
     "iopub.execute_input": "2022-09-23T11:39:22.492144Z",
     "iopub.status.busy": "2022-09-23T11:39:22.491697Z",
     "iopub.status.idle": "2022-09-23T11:39:22.788933Z",
     "shell.execute_reply": "2022-09-23T11:39:22.787552Z"
    },
    "papermill": {
     "duration": 0.314497,
     "end_time": "2022-09-23T11:39:22.791759",
     "exception": false,
     "start_time": "2022-09-23T11:39:22.477262",
     "status": "completed"
    },
    "tags": []
   },
   "outputs": [],
   "source": [
    "data = np.array(d)"
   ]
  },
  {
   "cell_type": "markdown",
   "id": "cc5fdf79",
   "metadata": {
    "papermill": {
     "duration": 0.012417,
     "end_time": "2022-09-23T11:39:22.817259",
     "exception": false,
     "start_time": "2022-09-23T11:39:22.804842",
     "status": "completed"
    },
    "tags": []
   },
   "source": [
    "### Further imports "
   ]
  },
  {
   "cell_type": "code",
   "execution_count": 14,
   "id": "d74785f4",
   "metadata": {
    "execution": {
     "iopub.execute_input": "2022-09-23T11:39:22.845127Z",
     "iopub.status.busy": "2022-09-23T11:39:22.844661Z",
     "iopub.status.idle": "2022-09-23T11:39:29.625437Z",
     "shell.execute_reply": "2022-09-23T11:39:29.624057Z"
    },
    "papermill": {
     "duration": 6.798337,
     "end_time": "2022-09-23T11:39:29.628374",
     "exception": false,
     "start_time": "2022-09-23T11:39:22.830037",
     "status": "completed"
    },
    "tags": []
   },
   "outputs": [],
   "source": [
    "from sklearn.model_selection import train_test_split\n",
    "from sklearn.preprocessing import LabelEncoder\n",
    "from sklearn.metrics import confusion_matrix, accuracy_score\n",
    "import tensorflow as tf\n",
    "import keras\n",
    "from keras import layers\n",
    "from keras.preprocessing.text import Tokenizer\n",
    "from keras.preprocessing.sequence import pad_sequences\n",
    "from tensorflow.keras.optimizers import RMSprop,Adam\n",
    "from keras import backend as K\n",
    "from keras.models import Sequential\n",
    "from keras.layers import Embedding, Dense, LSTM\n",
    "from keras import utils\n",
    "from keras import regularizers\n",
    "from keras.callbacks import ModelCheckpoint\n"
   ]
  },
  {
   "cell_type": "markdown",
   "id": "79144a8f",
   "metadata": {
    "papermill": {
     "duration": 0.012493,
     "end_time": "2022-09-23T11:39:29.653982",
     "exception": false,
     "start_time": "2022-09-23T11:39:29.641489",
     "status": "completed"
    },
    "tags": []
   },
   "source": [
    "#### Changing score values to float"
   ]
  },
  {
   "cell_type": "code",
   "execution_count": 15,
   "id": "33099c8d",
   "metadata": {
    "execution": {
     "iopub.execute_input": "2022-09-23T11:39:29.682516Z",
     "iopub.status.busy": "2022-09-23T11:39:29.681154Z",
     "iopub.status.idle": "2022-09-23T11:39:29.701286Z",
     "shell.execute_reply": "2022-09-23T11:39:29.699872Z"
    },
    "papermill": {
     "duration": 0.037404,
     "end_time": "2022-09-23T11:39:29.704065",
     "exception": false,
     "start_time": "2022-09-23T11:39:29.666661",
     "status": "completed"
    },
    "tags": []
   },
   "outputs": [
    {
     "name": "stdout",
     "output_type": "stream",
     "text": [
      "[[1. 0. 0.]\n",
      " [1. 0. 0.]\n",
      " [1. 0. 0.]\n",
      " ...\n",
      " [1. 0. 0.]\n",
      " [1. 0. 0.]\n",
      " [1. 0. 0.]]\n"
     ]
    }
   ],
   "source": [
    "labels = np.array(df_main['max_id'])\n",
    "y = []\n",
    "for i in range(len(labels)):\n",
    "    if labels[i] == 'neu':\n",
    "        y.append(0)\n",
    "    if labels[i] == 'neg':\n",
    "        y.append(1)\n",
    "    if labels[i] == 'pos':\n",
    "        y.append(2)\n",
    "y = np.array(y)\n",
    "labels = tf.keras.utils.to_categorical(y, 3, dtype=\"float32\")\n",
    "del y\n",
    "\n",
    "print(labels)"
   ]
  },
  {
   "cell_type": "code",
   "execution_count": 16,
   "id": "e626cb3d",
   "metadata": {
    "execution": {
     "iopub.execute_input": "2022-09-23T11:39:29.732252Z",
     "iopub.status.busy": "2022-09-23T11:39:29.731774Z",
     "iopub.status.idle": "2022-09-23T11:39:30.905382Z",
     "shell.execute_reply": "2022-09-23T11:39:30.904471Z"
    },
    "papermill": {
     "duration": 1.191579,
     "end_time": "2022-09-23T11:39:30.908572",
     "exception": false,
     "start_time": "2022-09-23T11:39:29.716993",
     "status": "completed"
    },
    "tags": []
   },
   "outputs": [
    {
     "name": "stdout",
     "output_type": "stream",
     "text": [
      "[[   0    0    0 ...  128   30  119]\n",
      " [   0    0    0 ... 1795   10  286]\n",
      " [   0    0    0 ...  141   25   40]\n",
      " ...\n",
      " [   0    0    0 ...    0    0    6]\n",
      " [   0    0    0 ...   16    4   10]\n",
      " [   0    0    0 ...  136  282  224]]\n"
     ]
    }
   ],
   "source": [
    "max_words = 5000\n",
    "max_len = 200\n",
    "\n",
    "tokenizer = Tokenizer(num_words=max_words)\n",
    "tokenizer.fit_on_texts(data)\n",
    "sequences = tokenizer.texts_to_sequences(data)\n",
    "reviews = pad_sequences(sequences, maxlen=max_len)\n",
    "print(reviews)"
   ]
  },
  {
   "cell_type": "markdown",
   "id": "5127399d",
   "metadata": {
    "papermill": {
     "duration": 0.012724,
     "end_time": "2022-09-23T11:39:30.935695",
     "exception": false,
     "start_time": "2022-09-23T11:39:30.922971",
     "status": "completed"
    },
    "tags": []
   },
   "source": [
    "### Split data"
   ]
  },
  {
   "cell_type": "code",
   "execution_count": 17,
   "id": "06281800",
   "metadata": {
    "execution": {
     "iopub.execute_input": "2022-09-23T11:39:30.964105Z",
     "iopub.status.busy": "2022-09-23T11:39:30.963581Z",
     "iopub.status.idle": "2022-09-23T11:39:30.985104Z",
     "shell.execute_reply": "2022-09-23T11:39:30.983516Z"
    },
    "papermill": {
     "duration": 0.039105,
     "end_time": "2022-09-23T11:39:30.987970",
     "exception": false,
     "start_time": "2022-09-23T11:39:30.948865",
     "status": "completed"
    },
    "tags": []
   },
   "outputs": [
    {
     "name": "stdout",
     "output_type": "stream",
     "text": [
      "Train size:  10752 10752\n",
      "Test size:  3585 3585\n"
     ]
    }
   ],
   "source": [
    "X_train, X_test, y_train, y_test = train_test_split(reviews,labels, random_state=0)\n",
    "print(\"Train size: \", len(X_train), len(y_train))\n",
    "print(\"Test size: \", len(X_test), len(y_test))"
   ]
  },
  {
   "cell_type": "markdown",
   "id": "c0a6f370",
   "metadata": {
    "papermill": {
     "duration": 0.013428,
     "end_time": "2022-09-23T11:39:31.015112",
     "exception": false,
     "start_time": "2022-09-23T11:39:31.001684",
     "status": "completed"
    },
    "tags": []
   },
   "source": [
    "### Single LSTM layer model"
   ]
  },
  {
   "cell_type": "code",
   "execution_count": 18,
   "id": "eb581b18",
   "metadata": {
    "execution": {
     "iopub.execute_input": "2022-09-23T11:39:31.044032Z",
     "iopub.status.busy": "2022-09-23T11:39:31.043027Z",
     "iopub.status.idle": "2022-09-23T11:39:31.490626Z",
     "shell.execute_reply": "2022-09-23T11:39:31.489427Z"
    },
    "papermill": {
     "duration": 0.465237,
     "end_time": "2022-09-23T11:39:31.493559",
     "exception": false,
     "start_time": "2022-09-23T11:39:31.028322",
     "status": "completed"
    },
    "tags": []
   },
   "outputs": [
    {
     "name": "stderr",
     "output_type": "stream",
     "text": [
      "2022-09-23 11:39:31.086367: I tensorflow/core/common_runtime/process_util.cc:146] Creating new thread pool with default inter op setting: 2. Tune using inter_op_parallelism_threads for best performance.\n"
     ]
    }
   ],
   "source": [
    "model1 = Sequential()\n",
    "model1.add(layers.Embedding(max_words, 20))\n",
    "model1.add(layers.LSTM(15,dropout=0.5))\n",
    "model1.add(layers.Dense(3,activation='softmax'))"
   ]
  },
  {
   "cell_type": "code",
   "execution_count": 19,
   "id": "b8160ddc",
   "metadata": {
    "execution": {
     "iopub.execute_input": "2022-09-23T11:39:31.522269Z",
     "iopub.status.busy": "2022-09-23T11:39:31.521773Z",
     "iopub.status.idle": "2022-09-23T12:01:55.325386Z",
     "shell.execute_reply": "2022-09-23T12:01:55.324190Z"
    },
    "papermill": {
     "duration": 1343.821604,
     "end_time": "2022-09-23T12:01:55.328434",
     "exception": false,
     "start_time": "2022-09-23T11:39:31.506830",
     "status": "completed"
    },
    "tags": []
   },
   "outputs": [
    {
     "name": "stderr",
     "output_type": "stream",
     "text": [
      "2022-09-23 11:39:31.603282: I tensorflow/compiler/mlir/mlir_graph_optimization_pass.cc:185] None of the MLIR Optimization Passes are enabled (registered 2)\n"
     ]
    },
    {
     "name": "stdout",
     "output_type": "stream",
     "text": [
      "Epoch 1/70\n",
      "336/336 [==============================] - 22s 58ms/step - loss: 0.4202 - accuracy: 0.8411 - val_loss: 0.3185 - val_accuracy: 0.8834\n",
      "\n",
      "Epoch 00001: val_accuracy improved from -inf to 0.88340, saving model to lstm_model.hdf5\n",
      "Epoch 2/70\n",
      "336/336 [==============================] - 19s 56ms/step - loss: 0.2933 - accuracy: 0.8890 - val_loss: 0.2708 - val_accuracy: 0.8979\n",
      "\n",
      "Epoch 00002: val_accuracy improved from 0.88340 to 0.89791, saving model to lstm_model.hdf5\n",
      "Epoch 3/70\n",
      "336/336 [==============================] - 19s 56ms/step - loss: 0.2482 - accuracy: 0.9044 - val_loss: 0.2358 - val_accuracy: 0.9054\n",
      "\n",
      "Epoch 00003: val_accuracy improved from 0.89791 to 0.90544, saving model to lstm_model.hdf5\n",
      "Epoch 4/70\n",
      "336/336 [==============================] - 19s 56ms/step - loss: 0.2230 - accuracy: 0.9089 - val_loss: 0.2136 - val_accuracy: 0.9169\n",
      "\n",
      "Epoch 00004: val_accuracy improved from 0.90544 to 0.91688, saving model to lstm_model.hdf5\n",
      "Epoch 5/70\n",
      "336/336 [==============================] - 18s 55ms/step - loss: 0.2057 - accuracy: 0.9185 - val_loss: 0.2062 - val_accuracy: 0.9216\n",
      "\n",
      "Epoch 00005: val_accuracy improved from 0.91688 to 0.92162, saving model to lstm_model.hdf5\n",
      "Epoch 6/70\n",
      "336/336 [==============================] - 19s 57ms/step - loss: 0.1959 - accuracy: 0.9247 - val_loss: 0.1972 - val_accuracy: 0.9255\n",
      "\n",
      "Epoch 00006: val_accuracy improved from 0.92162 to 0.92552, saving model to lstm_model.hdf5\n",
      "Epoch 7/70\n",
      "336/336 [==============================] - 19s 56ms/step - loss: 0.1907 - accuracy: 0.9260 - val_loss: 0.1976 - val_accuracy: 0.9250\n",
      "\n",
      "Epoch 00007: val_accuracy did not improve from 0.92552\n",
      "Epoch 8/70\n",
      "336/336 [==============================] - 19s 55ms/step - loss: 0.1813 - accuracy: 0.9286 - val_loss: 0.1844 - val_accuracy: 0.9325\n",
      "\n",
      "Epoch 00008: val_accuracy improved from 0.92552 to 0.93250, saving model to lstm_model.hdf5\n",
      "Epoch 9/70\n",
      "336/336 [==============================] - 19s 56ms/step - loss: 0.1782 - accuracy: 0.9329 - val_loss: 0.1833 - val_accuracy: 0.9347\n",
      "\n",
      "Epoch 00009: val_accuracy improved from 0.93250 to 0.93473, saving model to lstm_model.hdf5\n",
      "Epoch 10/70\n",
      "336/336 [==============================] - 18s 54ms/step - loss: 0.1762 - accuracy: 0.9339 - val_loss: 0.1820 - val_accuracy: 0.9333\n",
      "\n",
      "Epoch 00010: val_accuracy did not improve from 0.93473\n",
      "Epoch 11/70\n",
      "336/336 [==============================] - 19s 56ms/step - loss: 0.1718 - accuracy: 0.9346 - val_loss: 0.1798 - val_accuracy: 0.9347\n",
      "\n",
      "Epoch 00011: val_accuracy did not improve from 0.93473\n",
      "Epoch 12/70\n",
      "336/336 [==============================] - 19s 55ms/step - loss: 0.1712 - accuracy: 0.9346 - val_loss: 0.1814 - val_accuracy: 0.9325\n",
      "\n",
      "Epoch 00012: val_accuracy did not improve from 0.93473\n",
      "Epoch 13/70\n",
      "336/336 [==============================] - 19s 56ms/step - loss: 0.1661 - accuracy: 0.9373 - val_loss: 0.1773 - val_accuracy: 0.9336\n",
      "\n",
      "Epoch 00013: val_accuracy did not improve from 0.93473\n",
      "Epoch 14/70\n",
      "336/336 [==============================] - 19s 56ms/step - loss: 0.1659 - accuracy: 0.9388 - val_loss: 0.1776 - val_accuracy: 0.9342\n",
      "\n",
      "Epoch 00014: val_accuracy did not improve from 0.93473\n",
      "Epoch 15/70\n",
      "336/336 [==============================] - 18s 55ms/step - loss: 0.1623 - accuracy: 0.9381 - val_loss: 0.1764 - val_accuracy: 0.9339\n",
      "\n",
      "Epoch 00015: val_accuracy did not improve from 0.93473\n",
      "Epoch 16/70\n",
      "336/336 [==============================] - 19s 56ms/step - loss: 0.1582 - accuracy: 0.9410 - val_loss: 0.1816 - val_accuracy: 0.9350\n",
      "\n",
      "Epoch 00016: val_accuracy improved from 0.93473 to 0.93501, saving model to lstm_model.hdf5\n",
      "Epoch 17/70\n",
      "336/336 [==============================] - 19s 55ms/step - loss: 0.1527 - accuracy: 0.9428 - val_loss: 0.1753 - val_accuracy: 0.9356\n",
      "\n",
      "Epoch 00017: val_accuracy improved from 0.93501 to 0.93556, saving model to lstm_model.hdf5\n",
      "Epoch 18/70\n",
      "336/336 [==============================] - 18s 55ms/step - loss: 0.1538 - accuracy: 0.9450 - val_loss: 0.1778 - val_accuracy: 0.9367\n",
      "\n",
      "Epoch 00018: val_accuracy improved from 0.93556 to 0.93668, saving model to lstm_model.hdf5\n",
      "Epoch 19/70\n",
      "336/336 [==============================] - 19s 56ms/step - loss: 0.1548 - accuracy: 0.9425 - val_loss: 0.1767 - val_accuracy: 0.9344\n",
      "\n",
      "Epoch 00019: val_accuracy did not improve from 0.93668\n",
      "Epoch 20/70\n",
      "336/336 [==============================] - 18s 55ms/step - loss: 0.1533 - accuracy: 0.9424 - val_loss: 0.1804 - val_accuracy: 0.9358\n",
      "\n",
      "Epoch 00020: val_accuracy did not improve from 0.93668\n",
      "Epoch 21/70\n",
      "336/336 [==============================] - 19s 56ms/step - loss: 0.1519 - accuracy: 0.9452 - val_loss: 0.1717 - val_accuracy: 0.9361\n",
      "\n",
      "Epoch 00021: val_accuracy did not improve from 0.93668\n",
      "Epoch 22/70\n",
      "336/336 [==============================] - 18s 54ms/step - loss: 0.1518 - accuracy: 0.9450 - val_loss: 0.1711 - val_accuracy: 0.9370\n",
      "\n",
      "Epoch 00022: val_accuracy improved from 0.93668 to 0.93696, saving model to lstm_model.hdf5\n",
      "Epoch 23/70\n",
      "336/336 [==============================] - 19s 55ms/step - loss: 0.1450 - accuracy: 0.9501 - val_loss: 0.1683 - val_accuracy: 0.9395\n",
      "\n",
      "Epoch 00023: val_accuracy improved from 0.93696 to 0.93947, saving model to lstm_model.hdf5\n",
      "Epoch 24/70\n",
      "336/336 [==============================] - 19s 55ms/step - loss: 0.1484 - accuracy: 0.9447 - val_loss: 0.1710 - val_accuracy: 0.9358\n",
      "\n",
      "Epoch 00024: val_accuracy did not improve from 0.93947\n",
      "Epoch 25/70\n",
      "336/336 [==============================] - 19s 56ms/step - loss: 0.1439 - accuracy: 0.9491 - val_loss: 0.1690 - val_accuracy: 0.9361\n",
      "\n",
      "Epoch 00025: val_accuracy did not improve from 0.93947\n",
      "Epoch 26/70\n",
      "336/336 [==============================] - 19s 56ms/step - loss: 0.1467 - accuracy: 0.9474 - val_loss: 0.1711 - val_accuracy: 0.9364\n",
      "\n",
      "Epoch 00026: val_accuracy did not improve from 0.93947\n",
      "Epoch 27/70\n",
      "336/336 [==============================] - 18s 55ms/step - loss: 0.1458 - accuracy: 0.9488 - val_loss: 0.1659 - val_accuracy: 0.9358\n",
      "\n",
      "Epoch 00027: val_accuracy did not improve from 0.93947\n",
      "Epoch 28/70\n",
      "336/336 [==============================] - 19s 56ms/step - loss: 0.1441 - accuracy: 0.9503 - val_loss: 0.1707 - val_accuracy: 0.9397\n",
      "\n",
      "Epoch 00028: val_accuracy improved from 0.93947 to 0.93975, saving model to lstm_model.hdf5\n",
      "Epoch 29/70\n",
      "336/336 [==============================] - 19s 56ms/step - loss: 0.1458 - accuracy: 0.9514 - val_loss: 0.1727 - val_accuracy: 0.9386\n",
      "\n",
      "Epoch 00029: val_accuracy did not improve from 0.93975\n",
      "Epoch 30/70\n",
      "336/336 [==============================] - 19s 55ms/step - loss: 0.1374 - accuracy: 0.9520 - val_loss: 0.1650 - val_accuracy: 0.9411\n",
      "\n",
      "Epoch 00030: val_accuracy improved from 0.93975 to 0.94114, saving model to lstm_model.hdf5\n",
      "Epoch 31/70\n",
      "336/336 [==============================] - 19s 57ms/step - loss: 0.1427 - accuracy: 0.9501 - val_loss: 0.1648 - val_accuracy: 0.9395\n",
      "\n",
      "Epoch 00031: val_accuracy did not improve from 0.94114\n",
      "Epoch 32/70\n",
      "336/336 [==============================] - 18s 55ms/step - loss: 0.1404 - accuracy: 0.9509 - val_loss: 0.1666 - val_accuracy: 0.9395\n",
      "\n",
      "Epoch 00032: val_accuracy did not improve from 0.94114\n",
      "Epoch 33/70\n",
      "336/336 [==============================] - 19s 55ms/step - loss: 0.1385 - accuracy: 0.9534 - val_loss: 0.1627 - val_accuracy: 0.9403\n",
      "\n",
      "Epoch 00033: val_accuracy did not improve from 0.94114\n",
      "Epoch 34/70\n",
      "336/336 [==============================] - 19s 56ms/step - loss: 0.1343 - accuracy: 0.9534 - val_loss: 0.1676 - val_accuracy: 0.9414\n",
      "\n",
      "Epoch 00034: val_accuracy improved from 0.94114 to 0.94142, saving model to lstm_model.hdf5\n",
      "Epoch 35/70\n",
      "336/336 [==============================] - 19s 55ms/step - loss: 0.1348 - accuracy: 0.9525 - val_loss: 0.1667 - val_accuracy: 0.9409\n",
      "\n",
      "Epoch 00035: val_accuracy did not improve from 0.94142\n",
      "Epoch 36/70\n",
      "336/336 [==============================] - 19s 56ms/step - loss: 0.1355 - accuracy: 0.9536 - val_loss: 0.1617 - val_accuracy: 0.9403\n",
      "\n",
      "Epoch 00036: val_accuracy did not improve from 0.94142\n",
      "Epoch 37/70\n",
      "336/336 [==============================] - 19s 56ms/step - loss: 0.1364 - accuracy: 0.9509 - val_loss: 0.1654 - val_accuracy: 0.9400\n",
      "\n",
      "Epoch 00037: val_accuracy did not improve from 0.94142\n",
      "Epoch 38/70\n",
      "336/336 [==============================] - 19s 57ms/step - loss: 0.1361 - accuracy: 0.9525 - val_loss: 0.1625 - val_accuracy: 0.9423\n",
      "\n",
      "Epoch 00038: val_accuracy improved from 0.94142 to 0.94226, saving model to lstm_model.hdf5\n",
      "Epoch 39/70\n",
      "336/336 [==============================] - 19s 56ms/step - loss: 0.1350 - accuracy: 0.9532 - val_loss: 0.1665 - val_accuracy: 0.9425\n",
      "\n",
      "Epoch 00039: val_accuracy improved from 0.94226 to 0.94254, saving model to lstm_model.hdf5\n",
      "Epoch 40/70\n",
      "336/336 [==============================] - 19s 56ms/step - loss: 0.1347 - accuracy: 0.9523 - val_loss: 0.1670 - val_accuracy: 0.9395\n",
      "\n",
      "Epoch 00040: val_accuracy did not improve from 0.94254\n",
      "Epoch 41/70\n",
      "336/336 [==============================] - 19s 57ms/step - loss: 0.1345 - accuracy: 0.9529 - val_loss: 0.1647 - val_accuracy: 0.9411\n",
      "\n",
      "Epoch 00041: val_accuracy did not improve from 0.94254\n",
      "Epoch 42/70\n",
      "336/336 [==============================] - 18s 55ms/step - loss: 0.1291 - accuracy: 0.9559 - val_loss: 0.1632 - val_accuracy: 0.9411\n",
      "\n",
      "Epoch 00042: val_accuracy did not improve from 0.94254\n",
      "Epoch 43/70\n",
      "336/336 [==============================] - 19s 56ms/step - loss: 0.1325 - accuracy: 0.9540 - val_loss: 0.1639 - val_accuracy: 0.9403\n",
      "\n",
      "Epoch 00043: val_accuracy did not improve from 0.94254\n",
      "Epoch 44/70\n",
      "336/336 [==============================] - 19s 55ms/step - loss: 0.1319 - accuracy: 0.9549 - val_loss: 0.1633 - val_accuracy: 0.9428\n",
      "\n",
      "Epoch 00044: val_accuracy improved from 0.94254 to 0.94282, saving model to lstm_model.hdf5\n",
      "Epoch 45/70\n",
      "336/336 [==============================] - 18s 55ms/step - loss: 0.1309 - accuracy: 0.9538 - val_loss: 0.1633 - val_accuracy: 0.9417\n",
      "\n",
      "Epoch 00045: val_accuracy did not improve from 0.94282\n",
      "Epoch 46/70\n",
      "336/336 [==============================] - 19s 56ms/step - loss: 0.1327 - accuracy: 0.9522 - val_loss: 0.1671 - val_accuracy: 0.9409\n",
      "\n",
      "Epoch 00046: val_accuracy did not improve from 0.94282\n",
      "Epoch 47/70\n",
      "336/336 [==============================] - 18s 55ms/step - loss: 0.1279 - accuracy: 0.9541 - val_loss: 0.1621 - val_accuracy: 0.9414\n",
      "\n",
      "Epoch 00047: val_accuracy did not improve from 0.94282\n",
      "Epoch 48/70\n",
      "336/336 [==============================] - 19s 55ms/step - loss: 0.1306 - accuracy: 0.9525 - val_loss: 0.1650 - val_accuracy: 0.9423\n",
      "\n",
      "Epoch 00048: val_accuracy did not improve from 0.94282\n",
      "Epoch 49/70\n",
      "336/336 [==============================] - 19s 56ms/step - loss: 0.1277 - accuracy: 0.9565 - val_loss: 0.1657 - val_accuracy: 0.9411\n",
      "\n",
      "Epoch 00049: val_accuracy did not improve from 0.94282\n",
      "Epoch 50/70\n",
      "336/336 [==============================] - 19s 55ms/step - loss: 0.1272 - accuracy: 0.9562 - val_loss: 0.1690 - val_accuracy: 0.9372\n",
      "\n",
      "Epoch 00050: val_accuracy did not improve from 0.94282\n",
      "Epoch 51/70\n",
      "336/336 [==============================] - 19s 56ms/step - loss: 0.1294 - accuracy: 0.9561 - val_loss: 0.1699 - val_accuracy: 0.9420\n",
      "\n",
      "Epoch 00051: val_accuracy did not improve from 0.94282\n",
      "Epoch 52/70\n",
      "336/336 [==============================] - 19s 55ms/step - loss: 0.1264 - accuracy: 0.9541 - val_loss: 0.1629 - val_accuracy: 0.9403\n",
      "\n",
      "Epoch 00052: val_accuracy did not improve from 0.94282\n",
      "Epoch 53/70\n",
      "336/336 [==============================] - 18s 55ms/step - loss: 0.1251 - accuracy: 0.9573 - val_loss: 0.1673 - val_accuracy: 0.9400\n",
      "\n",
      "Epoch 00053: val_accuracy did not improve from 0.94282\n",
      "Epoch 54/70\n",
      "336/336 [==============================] - 18s 55ms/step - loss: 0.1242 - accuracy: 0.9564 - val_loss: 0.1643 - val_accuracy: 0.9400\n",
      "\n",
      "Epoch 00054: val_accuracy did not improve from 0.94282\n",
      "Epoch 55/70\n",
      "336/336 [==============================] - 19s 56ms/step - loss: 0.1257 - accuracy: 0.9549 - val_loss: 0.1689 - val_accuracy: 0.9400\n",
      "\n",
      "Epoch 00055: val_accuracy did not improve from 0.94282\n",
      "Epoch 56/70\n",
      "336/336 [==============================] - 18s 55ms/step - loss: 0.1240 - accuracy: 0.9576 - val_loss: 0.1675 - val_accuracy: 0.9392\n",
      "\n",
      "Epoch 00056: val_accuracy did not improve from 0.94282\n",
      "Epoch 57/70\n",
      "336/336 [==============================] - 19s 56ms/step - loss: 0.1252 - accuracy: 0.9563 - val_loss: 0.1647 - val_accuracy: 0.9417\n",
      "\n",
      "Epoch 00057: val_accuracy did not improve from 0.94282\n",
      "Epoch 58/70\n",
      "336/336 [==============================] - 19s 56ms/step - loss: 0.1284 - accuracy: 0.9540 - val_loss: 0.1620 - val_accuracy: 0.9423\n",
      "\n",
      "Epoch 00058: val_accuracy did not improve from 0.94282\n",
      "Epoch 59/70\n",
      "336/336 [==============================] - 19s 55ms/step - loss: 0.1273 - accuracy: 0.9553 - val_loss: 0.1691 - val_accuracy: 0.9445\n",
      "\n",
      "Epoch 00059: val_accuracy improved from 0.94282 to 0.94449, saving model to lstm_model.hdf5\n",
      "Epoch 60/70\n",
      "336/336 [==============================] - 19s 56ms/step - loss: 0.1268 - accuracy: 0.9568 - val_loss: 0.1636 - val_accuracy: 0.9434\n",
      "\n",
      "Epoch 00060: val_accuracy did not improve from 0.94449\n",
      "Epoch 61/70\n",
      "336/336 [==============================] - 19s 56ms/step - loss: 0.1227 - accuracy: 0.9582 - val_loss: 0.1646 - val_accuracy: 0.9392\n",
      "\n",
      "Epoch 00061: val_accuracy did not improve from 0.94449\n",
      "Epoch 62/70\n",
      "336/336 [==============================] - 18s 55ms/step - loss: 0.1237 - accuracy: 0.9568 - val_loss: 0.1660 - val_accuracy: 0.9417\n",
      "\n",
      "Epoch 00062: val_accuracy did not improve from 0.94449\n",
      "Epoch 63/70\n",
      "336/336 [==============================] - 19s 56ms/step - loss: 0.1233 - accuracy: 0.9573 - val_loss: 0.1699 - val_accuracy: 0.9417\n",
      "\n",
      "Epoch 00063: val_accuracy did not improve from 0.94449\n",
      "Epoch 64/70\n",
      "336/336 [==============================] - 19s 56ms/step - loss: 0.1214 - accuracy: 0.9578 - val_loss: 0.1631 - val_accuracy: 0.9403\n",
      "\n",
      "Epoch 00064: val_accuracy did not improve from 0.94449\n",
      "Epoch 65/70\n",
      "336/336 [==============================] - 19s 56ms/step - loss: 0.1243 - accuracy: 0.9563 - val_loss: 0.1667 - val_accuracy: 0.9420\n",
      "\n",
      "Epoch 00065: val_accuracy did not improve from 0.94449\n",
      "Epoch 66/70\n",
      "336/336 [==============================] - 19s 56ms/step - loss: 0.1220 - accuracy: 0.9586 - val_loss: 0.1656 - val_accuracy: 0.9406\n",
      "\n",
      "Epoch 00066: val_accuracy did not improve from 0.94449\n",
      "Epoch 67/70\n",
      "336/336 [==============================] - 18s 55ms/step - loss: 0.1204 - accuracy: 0.9582 - val_loss: 0.1646 - val_accuracy: 0.9431\n",
      "\n",
      "Epoch 00067: val_accuracy did not improve from 0.94449\n",
      "Epoch 68/70\n",
      "336/336 [==============================] - 19s 56ms/step - loss: 0.1177 - accuracy: 0.9591 - val_loss: 0.1614 - val_accuracy: 0.9434\n",
      "\n",
      "Epoch 00068: val_accuracy did not improve from 0.94449\n",
      "Epoch 69/70\n",
      "336/336 [==============================] - 19s 57ms/step - loss: 0.1205 - accuracy: 0.9574 - val_loss: 0.1640 - val_accuracy: 0.9409\n",
      "\n",
      "Epoch 00069: val_accuracy did not improve from 0.94449\n",
      "Epoch 70/70\n",
      "336/336 [==============================] - 19s 57ms/step - loss: 0.1213 - accuracy: 0.9573 - val_loss: 0.1701 - val_accuracy: 0.9403\n",
      "\n",
      "Epoch 00070: val_accuracy did not improve from 0.94449\n"
     ]
    }
   ],
   "source": [
    "model1.compile(optimizer='rmsprop',loss='categorical_crossentropy', metrics=['accuracy'])\n",
    "checkpoint = ModelCheckpoint(\"lstm_model.hdf5\", monitor='val_accuracy', verbose=1,save_best_only=True, mode='auto', period=1,save_weights_only=False)\n",
    "history = model1.fit(X_train, y_train, epochs=70,validation_data=(X_test, y_test),callbacks=[checkpoint])"
   ]
  },
  {
   "cell_type": "code",
   "execution_count": 20,
   "id": "b3788730",
   "metadata": {
    "execution": {
     "iopub.execute_input": "2022-09-23T12:01:58.150531Z",
     "iopub.status.busy": "2022-09-23T12:01:58.149199Z",
     "iopub.status.idle": "2022-09-23T12:02:00.503342Z",
     "shell.execute_reply": "2022-09-23T12:02:00.502295Z"
    },
    "papermill": {
     "duration": 3.76056,
     "end_time": "2022-09-23T12:02:00.506214",
     "exception": false,
     "start_time": "2022-09-23T12:01:56.745654",
     "status": "completed"
    },
    "tags": []
   },
   "outputs": [],
   "source": [
    "lstm_model = keras.models.load_model(\"lstm_model.hdf5\")\n",
    "predictions = lstm_model.predict(X_test)"
   ]
  },
  {
   "cell_type": "markdown",
   "id": "c35f4a77",
   "metadata": {
    "papermill": {
     "duration": 1.441026,
     "end_time": "2022-09-23T12:02:03.387982",
     "exception": false,
     "start_time": "2022-09-23T12:02:01.946956",
     "status": "completed"
    },
    "tags": []
   },
   "source": [
    "### Confusion Matrix"
   ]
  },
  {
   "cell_type": "code",
   "execution_count": 21,
   "id": "5bf033d9",
   "metadata": {
    "execution": {
     "iopub.execute_input": "2022-09-23T12:02:06.133159Z",
     "iopub.status.busy": "2022-09-23T12:02:06.132679Z",
     "iopub.status.idle": "2022-09-23T12:02:06.507673Z",
     "shell.execute_reply": "2022-09-23T12:02:06.506353Z"
    },
    "papermill": {
     "duration": 1.707456,
     "end_time": "2022-09-23T12:02:06.510407",
     "exception": false,
     "start_time": "2022-09-23T12:02:04.802951",
     "status": "completed"
    },
    "tags": []
   },
   "outputs": [
    {
     "name": "stderr",
     "output_type": "stream",
     "text": [
      "/opt/conda/lib/python3.7/site-packages/ipykernel_launcher.py:4: FutureWarning: Support for multi-dimensional indexing (e.g. `obj[:, None]`) is deprecated and will be removed in a future version.  Convert to a numpy array before indexing instead.\n",
      "  after removing the cwd from sys.path.\n"
     ]
    },
    {
     "data": {
      "text/plain": [
       "<AxesSubplot:>"
      ]
     },
     "execution_count": 21,
     "metadata": {},
     "output_type": "execute_result"
    },
    {
     "data": {
      "image/png": "[encoded data removed]",
      "text/plain": [
       "<Figure size 1500x1500 with 2 Axes>"
      ]
     },
     "metadata": {},
     "output_type": "display_data"
    }
   ],
   "source": [
    "matrix = confusion_matrix(y_test.argmax(axis=1), np.around(predictions, decimals=0).argmax(axis=1))\n",
    "conf_matrix = pd.DataFrame(matrix, index = ['Neutral','Negative','Positive'],columns = ['Neutral','Negative','Positive'])\n",
    "\n",
    "conf_matrix = conf_matrix.astype('float') / conf_matrix.sum(axis=1)[:, np.newaxis]\n",
    "plt.figure(figsize = (15,15))\n",
    "sns.heatmap(conf_matrix, annot=True, annot_kws={\"size\": 15})"
   ]
  }
 ],
 "metadata": {
  "kernelspec": {
   "display_name": "Python 3",
   "language": "python",
   "name": "python3"
  },
  "language_info": {
   "codemirror_mode": {
    "name": "ipython",
    "version": 3
   },
   "file_extension": ".py",
   "mimetype": "text/x-python",
   "name": "python",
   "nbconvert_exporter": "python",
   "pygments_lexer": "ipython3",
   "version": "3.7.12"
  },
  "papermill": {
   "default_parameters": {},
   "duration": 1394.643571,
   "end_time": "2022-09-23T12:02:11.225830",
   "environment_variables": {},
   "exception": null,
   "input_path": "__notebook__.ipynb",
   "output_path": "__notebook__.ipynb",
   "parameters": {},
   "start_time": "2022-09-23T11:38:56.582259",
   "version": "2.3.4"
  }
 },
 "nbformat": 4,
 "nbformat_minor": 5
}
